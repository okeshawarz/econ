{
 "cells": [
  {
   "cell_type": "code",
   "execution_count": 8,
   "metadata": {},
   "outputs": [
    {
     "data": {
      "text/plain": [
       "u: 2-element Vector{Float64}:\n",
       " 0.0\n",
       " 0.0"
      ]
     },
     "metadata": {},
     "output_type": "display_data"
    }
   ],
   "source": [
    "using ModelingToolkit, DifferentialEquations\n",
    "\n",
    "@parameters t\n",
    "@variables x(t), y(t)\n",
    "D = Differential(t)\n",
    "\n",
    "eqs = [D(x) ~ 2x - y,\n",
    "       D(y) ~ x - y]\n",
    "\n",
    "@named sys = ODESystem(eqs)\n",
    "sys = ode_order_lowering(sys)\n",
    "u0 = [x => 0,\n",
    "      y => 0]\n",
    "\n",
    "tspan = [0, 10]\n",
    "\n",
    "prob = ODEProblem(sys, u0, tspan; jac = true, sparse = true)\n",
    "ssprob = SteadyStateProblem(prob)\n",
    "sol = solve(ssprob, SSRootfind())\n"
   ]
  }
 ],
 "metadata": {
  "kernelspec": {
   "display_name": "Julia 1.7.2",
   "language": "julia",
   "name": "julia-1.7"
  },
  "language_info": {
   "file_extension": ".jl",
   "mimetype": "application/julia",
   "name": "julia",
   "version": "1.7.2"
  },
  "orig_nbformat": 4
 },
 "nbformat": 4,
 "nbformat_minor": 2
}
